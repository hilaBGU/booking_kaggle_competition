{
 "cells": [
  {
   "cell_type": "markdown",
   "metadata": {},
   "source": [
    "# Booking EDA"
   ]
  },
  {
   "cell_type": "markdown",
   "metadata": {},
   "source": [
    "### This notebook is dedicated to exploratory data analysis (EDA) of the datasets provided for the Booking.com Kaggle competition.\n",
    "The goal of the EDA is to understand the structure, quality, and key patterns in the data to inform the feature engineering and modeling steps later.\n",
    "Through this process, we explore relationships between user reviews, accommodations, and user characteristics, while identifying potential issues such as missing values or data inconsistencies.\n",
    "The EDA provides the foundation for building an effective ranking model."
   ]
  },
  {
   "cell_type": "markdown",
   "metadata": {},
   "source": [
    "#### Installtions and Imports"
   ]
  },
  {
   "cell_type": "code",
   "execution_count": 1,
   "metadata": {
    "pycharm": {
     "is_executing": true,
     "name": "#%%\n"
    }
   },
   "outputs": [
    {
     "name": "stdout",
     "output_type": "stream",
     "text": [
      "/sise/home/hilakese/.conda/envs/booking_kaggel_compatition/bin/python\n"
     ]
    }
   ],
   "source": [
    "import sys\n",
    "print(sys.executable)"
   ]
  },
  {
   "cell_type": "code",
   "execution_count": 2,
   "metadata": {
    "pycharm": {
     "is_executing": true,
     "name": "#%%\n"
    }
   },
   "outputs": [],
   "source": [
    "import pandas as pd\n",
    "import matplotlib.pyplot as plt\n",
    "import seaborn as sns\n",
    "import os\n",
    "from collections import Counter"
   ]
  },
  {
   "cell_type": "markdown",
   "metadata": {},
   "source": [
    "## Reviews EDA"
   ]
  },
  {
   "cell_type": "code",
   "execution_count": 3,
   "metadata": {
    "pycharm": {
     "is_executing": true,
     "name": "#%%\n"
    }
   },
   "outputs": [
    {
     "name": "stdout",
     "output_type": "stream",
     "text": [
      "Loading file from: /sise/home/hilakese/reco_system/booking_kaggle_competition/data/train_reviews.csv\n"
     ]
    },
    {
     "data": {
      "text/html": [
       "<div>\n",
       "<style scoped>\n",
       "    .dataframe tbody tr th:only-of-type {\n",
       "        vertical-align: middle;\n",
       "    }\n",
       "\n",
       "    .dataframe tbody tr th {\n",
       "        vertical-align: top;\n",
       "    }\n",
       "\n",
       "    .dataframe thead th {\n",
       "        text-align: right;\n",
       "    }\n",
       "</style>\n",
       "<table border=\"1\" class=\"dataframe\">\n",
       "  <thead>\n",
       "    <tr style=\"text-align: right;\">\n",
       "      <th></th>\n",
       "      <th>review_id</th>\n",
       "      <th>accommodation_id</th>\n",
       "      <th>review_title</th>\n",
       "      <th>review_positive</th>\n",
       "      <th>review_negative</th>\n",
       "      <th>review_score</th>\n",
       "      <th>review_helpful_votes</th>\n",
       "    </tr>\n",
       "  </thead>\n",
       "  <tbody>\n",
       "    <tr>\n",
       "      <th>0</th>\n",
       "      <td>bf762eec-0e44-42ff-a066-6be55a7d0849</td>\n",
       "      <td>489020669</td>\n",
       "      <td>Nice &amp;amp; friendly , Plenty of staff around.</td>\n",
       "      <td>Really nice staff. Good food.Fridge with fresh...</td>\n",
       "      <td>woken up 2.30 in the morning by very loud peop...</td>\n",
       "      <td>10.0</td>\n",
       "      <td>0</td>\n",
       "    </tr>\n",
       "    <tr>\n",
       "      <th>1</th>\n",
       "      <td>3f1a116f-38ed-4fe8-9086-fd71b0f994f9</td>\n",
       "      <td>1533822482</td>\n",
       "      <td>NaN</td>\n",
       "      <td>The staff was helpful and the room was comfort...</td>\n",
       "      <td>They only placed one wash cloth in the room fo...</td>\n",
       "      <td>9.0</td>\n",
       "      <td>0</td>\n",
       "    </tr>\n",
       "    <tr>\n",
       "      <th>2</th>\n",
       "      <td>2cfd21e7-4e2d-4a31-be9d-9e22c705d76d</td>\n",
       "      <td>222537300</td>\n",
       "      <td>NaN</td>\n",
       "      <td>&amp;quot;Home Sweet Home&amp;quot; is a delightful ho...</td>\n",
       "      <td>NaN</td>\n",
       "      <td>10.0</td>\n",
       "      <td>3</td>\n",
       "    </tr>\n",
       "    <tr>\n",
       "      <th>3</th>\n",
       "      <td>a240f502-0ee3-47e3-964b-786b56ed5083</td>\n",
       "      <td>644485349</td>\n",
       "      <td>NaN</td>\n",
       "      <td>We havent stayed in a b&amp;amp;b for so many year...</td>\n",
       "      <td>NaN</td>\n",
       "      <td>9.0</td>\n",
       "      <td>0</td>\n",
       "    </tr>\n",
       "    <tr>\n",
       "      <th>4</th>\n",
       "      <td>5086e380-21d4-4d5c-be6f-f2d04a57e0ac</td>\n",
       "      <td>-192152850</td>\n",
       "      <td>NaN</td>\n",
       "      <td>Location bed and pillows where so nice</td>\n",
       "      <td>NaN</td>\n",
       "      <td>10.0</td>\n",
       "      <td>0</td>\n",
       "    </tr>\n",
       "  </tbody>\n",
       "</table>\n",
       "</div>"
      ],
      "text/plain": [
       "                              review_id  accommodation_id  \\\n",
       "0  bf762eec-0e44-42ff-a066-6be55a7d0849         489020669   \n",
       "1  3f1a116f-38ed-4fe8-9086-fd71b0f994f9        1533822482   \n",
       "2  2cfd21e7-4e2d-4a31-be9d-9e22c705d76d         222537300   \n",
       "3  a240f502-0ee3-47e3-964b-786b56ed5083         644485349   \n",
       "4  5086e380-21d4-4d5c-be6f-f2d04a57e0ac        -192152850   \n",
       "\n",
       "                                    review_title  \\\n",
       "0  Nice &amp; friendly , Plenty of staff around.   \n",
       "1                                            NaN   \n",
       "2                                            NaN   \n",
       "3                                            NaN   \n",
       "4                                            NaN   \n",
       "\n",
       "                                     review_positive  \\\n",
       "0  Really nice staff. Good food.Fridge with fresh...   \n",
       "1  The staff was helpful and the room was comfort...   \n",
       "2  &quot;Home Sweet Home&quot; is a delightful ho...   \n",
       "3  We havent stayed in a b&amp;b for so many year...   \n",
       "4             Location bed and pillows where so nice   \n",
       "\n",
       "                                     review_negative  review_score  \\\n",
       "0  woken up 2.30 in the morning by very loud peop...          10.0   \n",
       "1  They only placed one wash cloth in the room fo...           9.0   \n",
       "2                                                NaN          10.0   \n",
       "3                                                NaN           9.0   \n",
       "4                                                NaN          10.0   \n",
       "\n",
       "   review_helpful_votes  \n",
       "0                     0  \n",
       "1                     0  \n",
       "2                     3  \n",
       "3                     0  \n",
       "4                     0  "
      ]
     },
     "metadata": {},
     "output_type": "display_data"
    }
   ],
   "source": [
    "# Set the base directory manually if needed\n",
    "base_dir = os.path.dirname(os.getcwd()) # or specify the folder manually\n",
    "file_path = os.path.join(base_dir, \"data\", \"train_reviews.csv\")\n",
    "\n",
    "if os.path.exists(file_path):\n",
    "    print(f\"Loading file from: {file_path}\")\n",
    "    train_reviews = pd.read_csv(file_path)\n",
    "    display(train_reviews.head())\n",
    "else:\n",
    "    print(f\"File not found: {file_path}\")\n"
   ]
  },
  {
   "cell_type": "markdown",
   "metadata": {},
   "source": [
    "We loaded the train_reviews.csv file to inspect its structure.\n",
    "It contains review details like IDs, scores, and text fields. Some columns, like review_title and review_negative, have missing values to address later"
   ]
  },
  {
   "cell_type": "code",
   "execution_count": 4,
   "metadata": {
    "pycharm": {
     "is_executing": true,
     "name": "#%%\n"
    }
   },
   "outputs": [
    {
     "name": "stdout",
     "output_type": "stream",
     "text": [
      "<class 'pandas.core.frame.DataFrame'>\n",
      "RangeIndex: 1628989 entries, 0 to 1628988\n",
      "Data columns (total 7 columns):\n",
      " #   Column                Non-Null Count    Dtype  \n",
      "---  ------                --------------    -----  \n",
      " 0   review_id             1628989 non-null  object \n",
      " 1   accommodation_id      1628989 non-null  int64  \n",
      " 2   review_title          1097128 non-null  object \n",
      " 3   review_positive       1628981 non-null  object \n",
      " 4   review_negative       1159440 non-null  object \n",
      " 5   review_score          1628989 non-null  float64\n",
      " 6   review_helpful_votes  1628989 non-null  int64  \n",
      "dtypes: float64(1), int64(2), object(4)\n",
      "memory usage: 87.0+ MB\n"
     ]
    },
    {
     "data": {
      "text/plain": [
       "None"
      ]
     },
     "metadata": {},
     "output_type": "display_data"
    },
    {
     "data": {
      "text/html": [
       "<div>\n",
       "<style scoped>\n",
       "    .dataframe tbody tr th:only-of-type {\n",
       "        vertical-align: middle;\n",
       "    }\n",
       "\n",
       "    .dataframe tbody tr th {\n",
       "        vertical-align: top;\n",
       "    }\n",
       "\n",
       "    .dataframe thead th {\n",
       "        text-align: right;\n",
       "    }\n",
       "</style>\n",
       "<table border=\"1\" class=\"dataframe\">\n",
       "  <thead>\n",
       "    <tr style=\"text-align: right;\">\n",
       "      <th></th>\n",
       "      <th>accommodation_id</th>\n",
       "      <th>review_score</th>\n",
       "      <th>review_helpful_votes</th>\n",
       "    </tr>\n",
       "  </thead>\n",
       "  <tbody>\n",
       "    <tr>\n",
       "      <th>count</th>\n",
       "      <td>1.628989e+06</td>\n",
       "      <td>1.628989e+06</td>\n",
       "      <td>1.628989e+06</td>\n",
       "    </tr>\n",
       "    <tr>\n",
       "      <th>mean</th>\n",
       "      <td>3.079934e+06</td>\n",
       "      <td>8.871634e+00</td>\n",
       "      <td>1.217989e-01</td>\n",
       "    </tr>\n",
       "    <tr>\n",
       "      <th>std</th>\n",
       "      <td>1.235929e+09</td>\n",
       "      <td>1.166345e+00</td>\n",
       "      <td>5.082283e-01</td>\n",
       "    </tr>\n",
       "    <tr>\n",
       "      <th>min</th>\n",
       "      <td>-2.147447e+09</td>\n",
       "      <td>1.000000e+00</td>\n",
       "      <td>0.000000e+00</td>\n",
       "    </tr>\n",
       "    <tr>\n",
       "      <th>25%</th>\n",
       "      <td>-1.056474e+09</td>\n",
       "      <td>8.000000e+00</td>\n",
       "      <td>0.000000e+00</td>\n",
       "    </tr>\n",
       "    <tr>\n",
       "      <th>50%</th>\n",
       "      <td>-3.509157e+06</td>\n",
       "      <td>9.000000e+00</td>\n",
       "      <td>0.000000e+00</td>\n",
       "    </tr>\n",
       "    <tr>\n",
       "      <th>75%</th>\n",
       "      <td>1.076218e+09</td>\n",
       "      <td>1.000000e+01</td>\n",
       "      <td>0.000000e+00</td>\n",
       "    </tr>\n",
       "    <tr>\n",
       "      <th>max</th>\n",
       "      <td>2.147458e+09</td>\n",
       "      <td>1.000000e+01</td>\n",
       "      <td>9.100000e+01</td>\n",
       "    </tr>\n",
       "  </tbody>\n",
       "</table>\n",
       "</div>"
      ],
      "text/plain": [
       "       accommodation_id  review_score  review_helpful_votes\n",
       "count      1.628989e+06  1.628989e+06          1.628989e+06\n",
       "mean       3.079934e+06  8.871634e+00          1.217989e-01\n",
       "std        1.235929e+09  1.166345e+00          5.082283e-01\n",
       "min       -2.147447e+09  1.000000e+00          0.000000e+00\n",
       "25%       -1.056474e+09  8.000000e+00          0.000000e+00\n",
       "50%       -3.509157e+06  9.000000e+00          0.000000e+00\n",
       "75%        1.076218e+09  1.000000e+01          0.000000e+00\n",
       "max        2.147458e+09  1.000000e+01          9.100000e+01"
      ]
     },
     "metadata": {},
     "output_type": "display_data"
    },
    {
     "name": "stdout",
     "output_type": "stream",
     "text": [
      "Missing values:\n",
      " review_id                    0\n",
      "accommodation_id             0\n",
      "review_title            531861\n",
      "review_positive              8\n",
      "review_negative         469549\n",
      "review_score                 0\n",
      "review_helpful_votes         0\n",
      "dtype: int64\n"
     ]
    }
   ],
   "source": [
    "# Basic information\n",
    "display(train_reviews.info())  # Column data types and non-null counts\n",
    "\n",
    "# Summary statistics for numerical columns\n",
    "display(train_reviews.describe())\n",
    "\n",
    "# Check for missing values\n",
    "missing_values = train_reviews.isnull().sum()\n",
    "print(\"Missing values:\\n\", missing_values)"
   ]
  },
  {
   "cell_type": "code",
   "execution_count": 5,
   "metadata": {
    "pycharm": {
     "is_executing": true,
     "name": "#%%\n"
    }
   },
   "outputs": [
    {
     "name": "stderr",
     "output_type": "stream",
     "text": [
      "/tmp/ipykernel_2528272/153131739.py:2: FutureWarning: A value is trying to be set on a copy of a DataFrame or Series through chained assignment using an inplace method.\n",
      "The behavior will change in pandas 3.0. This inplace method will never work because the intermediate object on which we are setting values always behaves as a copy.\n",
      "\n",
      "For example, when doing 'df[col].method(value, inplace=True)', try using 'df.method({col: value}, inplace=True)' or df[col] = df[col].method(value) instead, to perform the operation inplace on the original object.\n",
      "\n",
      "\n",
      "  train_reviews['review_title'].fillna(\"No Title\", inplace=True)\n",
      "/tmp/ipykernel_2528272/153131739.py:3: FutureWarning: A value is trying to be set on a copy of a DataFrame or Series through chained assignment using an inplace method.\n",
      "The behavior will change in pandas 3.0. This inplace method will never work because the intermediate object on which we are setting values always behaves as a copy.\n",
      "\n",
      "For example, when doing 'df[col].method(value, inplace=True)', try using 'df.method({col: value}, inplace=True)' or df[col] = df[col].method(value) instead, to perform the operation inplace on the original object.\n",
      "\n",
      "\n",
      "  train_reviews['review_positive'].fillna(\"No Positive Review\", inplace=True)\n",
      "/tmp/ipykernel_2528272/153131739.py:4: FutureWarning: A value is trying to be set on a copy of a DataFrame or Series through chained assignment using an inplace method.\n",
      "The behavior will change in pandas 3.0. This inplace method will never work because the intermediate object on which we are setting values always behaves as a copy.\n",
      "\n",
      "For example, when doing 'df[col].method(value, inplace=True)', try using 'df.method({col: value}, inplace=True)' or df[col] = df[col].method(value) instead, to perform the operation inplace on the original object.\n",
      "\n",
      "\n",
      "  train_reviews['review_negative'].fillna(\"No Negative Review\", inplace=True)\n"
     ]
    },
    {
     "name": "stdout",
     "output_type": "stream",
     "text": [
      "review_id               0\n",
      "accommodation_id        0\n",
      "review_title            0\n",
      "review_positive         0\n",
      "review_negative         0\n",
      "review_score            0\n",
      "review_helpful_votes    0\n",
      "dtype: int64\n"
     ]
    }
   ],
   "source": [
    "# Fill missing values for text fields\n",
    "train_reviews['review_title'].fillna(\"No Title\", inplace=True)\n",
    "train_reviews['review_positive'].fillna(\"No Positive Review\", inplace=True)\n",
    "train_reviews['review_negative'].fillna(\"No Negative Review\", inplace=True)\n",
    "\n",
    "# Drop rows with missing `review_score` if it’s critical\n",
    "train_reviews.dropna(subset=['review_score'], inplace=True)\n",
    "\n",
    "# Verify changes\n",
    "print(train_reviews.isnull().sum())"
   ]
  },
  {
   "cell_type": "markdown",
   "metadata": {},
   "source": [
    "In this step, we examined the overall structure, summary statistics, and missing values in the train_reviews dataset.\n",
    "The dataset contains columns for review details like score, helpful votes, and text.\n",
    "Key observations include missing values in review_title (32.7%), review_positive (1), and review_negative (28.8%).\n",
    "Numeric columns, such as review_score and review_helpful_votes, appear complete.\n",
    "This analysis highlights the need for handling missing values and potential outliers before modeling."
   ]
  },
  {
   "cell_type": "code",
   "execution_count": 6,
   "metadata": {
    "pycharm": {
     "is_executing": true,
     "name": "#%%\n"
    }
   },
   "outputs": [
    {
     "data": {
      "image/png": "[encoded data removed]",
      "text/plain": [
       "<Figure size 640x480 with 1 Axes>"
      ]
     },
     "metadata": {},
     "output_type": "display_data"
    }
   ],
   "source": [
    "# Distribution of review scores\n",
    "sns.histplot(train_reviews['review_score'], kde=False, bins=10)\n",
    "plt.title(\"Distribution of Review Scores\")\n",
    "plt.xlabel(\"Review Score\")\n",
    "plt.ylabel(\"Frequency\")\n",
    "plt.show()"
   ]
  },
  {
   "cell_type": "markdown",
   "metadata": {},
   "source": [
    "This visualization shows the distribution of review scores in the dataset.\n",
    "We observe a strong skew towards higher scores, with the majority of reviews receiving scores of 8 or above.\n",
    "This suggests a bias towards positive feedback, which could influence the model's ability to differentiate between reviews.\n",
    "Handling this imbalance may be necessary in later stages of analysis or modeling."
   ]
  },
  {
   "cell_type": "code",
   "execution_count": 7,
   "metadata": {
    "pycharm": {
     "is_executing": true,
     "name": "#%%\n"
    }
   },
   "outputs": [
    {
     "data": {
      "image/png": "[encoded data removed]",
      "text/plain": [
       "<Figure size 640x480 with 1 Axes>"
      ]
     },
     "metadata": {},
     "output_type": "display_data"
    },
    {
     "data": {
      "text/html": [
       "<div>\n",
       "<style scoped>\n",
       "    .dataframe tbody tr th:only-of-type {\n",
       "        vertical-align: middle;\n",
       "    }\n",
       "\n",
       "    .dataframe tbody tr th {\n",
       "        vertical-align: top;\n",
       "    }\n",
       "\n",
       "    .dataframe thead th {\n",
       "        text-align: right;\n",
       "    }\n",
       "</style>\n",
       "<table border=\"1\" class=\"dataframe\">\n",
       "  <thead>\n",
       "    <tr style=\"text-align: right;\">\n",
       "      <th></th>\n",
       "      <th>review_id</th>\n",
       "      <th>accommodation_id</th>\n",
       "      <th>review_title</th>\n",
       "      <th>review_positive</th>\n",
       "      <th>review_negative</th>\n",
       "      <th>review_score</th>\n",
       "      <th>review_helpful_votes</th>\n",
       "    </tr>\n",
       "  </thead>\n",
       "  <tbody>\n",
       "    <tr>\n",
       "      <th>40413</th>\n",
       "      <td>e99671ef-5091-4e54-8700-a6e4d66e1c11</td>\n",
       "      <td>321160175</td>\n",
       "      <td>Very comfortable.</td>\n",
       "      <td>The location was good, the room is cleaned eve...</td>\n",
       "      <td>Need to have more selection of juice drinks av...</td>\n",
       "      <td>9.0</td>\n",
       "      <td>91</td>\n",
       "    </tr>\n",
       "    <tr>\n",
       "      <th>680897</th>\n",
       "      <td>6e6279a8-a41e-43f7-8046-17e58b7f9ac1</td>\n",
       "      <td>321160175</td>\n",
       "      <td>No Title</td>\n",
       "      <td>nice staff ( especially Youssra and Marwa) , c...</td>\n",
       "      <td>No Negative Review</td>\n",
       "      <td>9.0</td>\n",
       "      <td>88</td>\n",
       "    </tr>\n",
       "    <tr>\n",
       "      <th>77816</th>\n",
       "      <td>3dcb36bc-a09b-4aac-8ec9-d7ad46732bec</td>\n",
       "      <td>-1879783390</td>\n",
       "      <td>No Title</td>\n",
       "      <td>Everything was great! The apartment (on 2 floo...</td>\n",
       "      <td>-</td>\n",
       "      <td>10.0</td>\n",
       "      <td>62</td>\n",
       "    </tr>\n",
       "    <tr>\n",
       "      <th>315016</th>\n",
       "      <td>7ce7ea83-f335-4432-b67b-25b82a9aa195</td>\n",
       "      <td>-1879783390</td>\n",
       "      <td>No Title</td>\n",
       "      <td>hi travelers   I highly recommend this apartme...</td>\n",
       "      <td>No Negative Review</td>\n",
       "      <td>10.0</td>\n",
       "      <td>61</td>\n",
       "    </tr>\n",
       "    <tr>\n",
       "      <th>636943</th>\n",
       "      <td>8a1fdb1a-b6f9-417c-a993-6d1282e553dc</td>\n",
       "      <td>-1879783390</td>\n",
       "      <td>The most perfect spot in Bologna.</td>\n",
       "      <td>Our host was most wonderfull, she gave us a wa...</td>\n",
       "      <td>No Negative Review</td>\n",
       "      <td>9.0</td>\n",
       "      <td>61</td>\n",
       "    </tr>\n",
       "  </tbody>\n",
       "</table>\n",
       "</div>"
      ],
      "text/plain": [
       "                                   review_id  accommodation_id  \\\n",
       "40413   e99671ef-5091-4e54-8700-a6e4d66e1c11         321160175   \n",
       "680897  6e6279a8-a41e-43f7-8046-17e58b7f9ac1         321160175   \n",
       "77816   3dcb36bc-a09b-4aac-8ec9-d7ad46732bec       -1879783390   \n",
       "315016  7ce7ea83-f335-4432-b67b-25b82a9aa195       -1879783390   \n",
       "636943  8a1fdb1a-b6f9-417c-a993-6d1282e553dc       -1879783390   \n",
       "\n",
       "                             review_title  \\\n",
       "40413                   Very comfortable.   \n",
       "680897                           No Title   \n",
       "77816                            No Title   \n",
       "315016                           No Title   \n",
       "636943  The most perfect spot in Bologna.   \n",
       "\n",
       "                                          review_positive  \\\n",
       "40413   The location was good, the room is cleaned eve...   \n",
       "680897  nice staff ( especially Youssra and Marwa) , c...   \n",
       "77816   Everything was great! The apartment (on 2 floo...   \n",
       "315016  hi travelers   I highly recommend this apartme...   \n",
       "636943  Our host was most wonderfull, she gave us a wa...   \n",
       "\n",
       "                                          review_negative  review_score  \\\n",
       "40413   Need to have more selection of juice drinks av...           9.0   \n",
       "680897                                 No Negative Review           9.0   \n",
       "77816                                                   -          10.0   \n",
       "315016                                 No Negative Review          10.0   \n",
       "636943                                 No Negative Review           9.0   \n",
       "\n",
       "        review_helpful_votes  \n",
       "40413                     91  \n",
       "680897                    88  \n",
       "77816                     62  \n",
       "315016                    61  \n",
       "636943                    61  "
      ]
     },
     "metadata": {},
     "output_type": "display_data"
    }
   ],
   "source": [
    "# Plot helpful votes\n",
    "sns.boxplot(x=train_reviews['review_helpful_votes'])\n",
    "plt.title(\"Distribution of Helpful Votes\")\n",
    "plt.show()\n",
    "\n",
    "# Top helpful reviews\n",
    "display(train_reviews.sort_values(by='review_helpful_votes', ascending=False).head())"
   ]
  },
  {
   "cell_type": "markdown",
   "metadata": {},
   "source": [
    "This analysis focuses on reviews with the highest helpful votes, as seen in the table and corresponding box plot.\n",
    "The majority of reviews have zero or very few helpful votes, while a small subset—represented by outliers—received significantly higher counts (e.g., 91 votes).\n",
    "These highly helpful reviews often feature detailed positive feedback and high scores (9 or 10), with occasional constructive negative comments.\n",
    "Understanding the characteristics of these outliers can help refine the ranking model by emphasizing factors that make reviews useful to users."
   ]
  },
  {
   "cell_type": "code",
   "execution_count": 8,
   "metadata": {
    "pycharm": {
     "is_executing": true,
     "name": "#%%\n"
    }
   },
   "outputs": [
    {
     "data": {
      "image/png": "[encoded data removed]",
      "text/plain": [
       "<Figure size 640x480 with 1 Axes>"
      ]
     },
     "metadata": {},
     "output_type": "display_data"
    }
   ],
   "source": [
    "# Add a column for review text length\n",
    "train_reviews['positive_review_length'] = train_reviews['review_positive'].apply(len)\n",
    "train_reviews['negative_review_length'] = train_reviews['review_negative'].apply(len)\n",
    "\n",
    "# Plot the distribution of review lengths\n",
    "sns.histplot(train_reviews['positive_review_length'], bins=30, kde=True, label=\"Positive Reviews\")\n",
    "sns.histplot(train_reviews['negative_review_length'], bins=30, kde=True, color='red', label=\"Negative Reviews\")\n",
    "plt.legend()\n",
    "plt.title(\"Distribution of Review Lengths\")\n",
    "plt.xlabel(\"Review Length\")\n",
    "plt.ylabel(\"Frequency\")\n",
    "plt.show()"
   ]
  },
  {
   "cell_type": "markdown",
   "metadata": {
    "pycharm": {
     "name": "#%% md\n"
    }
   },
   "source": [
    "This plot visualizes the distribution of review lengths for positive and negative reviews.\n",
    "The x-axis represents the length of the review text, while the y-axis shows the frequency.\n",
    "Most reviews are relatively short, with a steep drop-off after 250 characters.\n",
    "Positive and negative reviews follow similar patterns, though negative reviews tend to be slightly shorter on average.\n",
    "This information can help us understand user behavior and the importance of review length in the ranking model."
   ]
  },
  {
   "cell_type": "code",
   "execution_count": 9,
   "metadata": {
    "pycharm": {
     "is_executing": true,
     "name": "#%%\n"
    }
   },
   "outputs": [
    {
     "name": "stdout",
     "output_type": "stream",
     "text": [
      "The 20 most used words in positive reviews:\n"
     ]
    },
    {
     "data": {
      "text/html": [
       "<div>\n",
       "<style scoped>\n",
       "    .dataframe tbody tr th:only-of-type {\n",
       "        vertical-align: middle;\n",
       "    }\n",
       "\n",
       "    .dataframe tbody tr th {\n",
       "        vertical-align: top;\n",
       "    }\n",
       "\n",
       "    .dataframe thead th {\n",
       "        text-align: right;\n",
       "    }\n",
       "</style>\n",
       "<table border=\"1\" class=\"dataframe\">\n",
       "  <thead>\n",
       "    <tr style=\"text-align: right;\">\n",
       "      <th></th>\n",
       "      <th>word</th>\n",
       "      <th>count</th>\n",
       "    </tr>\n",
       "  </thead>\n",
       "  <tbody>\n",
       "    <tr>\n",
       "      <th>19</th>\n",
       "      <td>the</td>\n",
       "      <td>3039935</td>\n",
       "    </tr>\n",
       "    <tr>\n",
       "      <th>23</th>\n",
       "      <td>and</td>\n",
       "      <td>2479139</td>\n",
       "    </tr>\n",
       "    <tr>\n",
       "      <th>21</th>\n",
       "      <td>was</td>\n",
       "      <td>1417499</td>\n",
       "    </tr>\n",
       "    <tr>\n",
       "      <th>36</th>\n",
       "      <td>to</td>\n",
       "      <td>1114528</td>\n",
       "    </tr>\n",
       "    <tr>\n",
       "      <th>30</th>\n",
       "      <td>a</td>\n",
       "      <td>1052855</td>\n",
       "    </tr>\n",
       "    <tr>\n",
       "      <th>153</th>\n",
       "      <td>very</td>\n",
       "      <td>887776</td>\n",
       "    </tr>\n",
       "    <tr>\n",
       "      <th>29</th>\n",
       "      <td>is</td>\n",
       "      <td>657452</td>\n",
       "    </tr>\n",
       "    <tr>\n",
       "      <th>126</th>\n",
       "      <td>in</td>\n",
       "      <td>598937</td>\n",
       "    </tr>\n",
       "    <tr>\n",
       "      <th>9</th>\n",
       "      <td>of</td>\n",
       "      <td>579944</td>\n",
       "    </tr>\n",
       "    <tr>\n",
       "      <th>11</th>\n",
       "      <td>for</td>\n",
       "      <td>526167</td>\n",
       "    </tr>\n",
       "    <tr>\n",
       "      <th>24</th>\n",
       "      <td>room</td>\n",
       "      <td>480684</td>\n",
       "    </tr>\n",
       "    <tr>\n",
       "      <th>168</th>\n",
       "      <td>location</td>\n",
       "      <td>465402</td>\n",
       "    </tr>\n",
       "    <tr>\n",
       "      <th>5</th>\n",
       "      <td>with</td>\n",
       "      <td>458868</td>\n",
       "    </tr>\n",
       "    <tr>\n",
       "      <th>123</th>\n",
       "      <td>we</td>\n",
       "      <td>455610</td>\n",
       "    </tr>\n",
       "    <tr>\n",
       "      <th>75</th>\n",
       "      <td>great</td>\n",
       "      <td>440109</td>\n",
       "    </tr>\n",
       "    <tr>\n",
       "      <th>55</th>\n",
       "      <td>were</td>\n",
       "      <td>418197</td>\n",
       "    </tr>\n",
       "    <tr>\n",
       "      <th>20</th>\n",
       "      <td>staff</td>\n",
       "      <td>416411</td>\n",
       "    </tr>\n",
       "    <tr>\n",
       "      <th>3</th>\n",
       "      <td>good</td>\n",
       "      <td>414027</td>\n",
       "    </tr>\n",
       "    <tr>\n",
       "      <th>161</th>\n",
       "      <td>breakfast</td>\n",
       "      <td>357157</td>\n",
       "    </tr>\n",
       "    <tr>\n",
       "      <th>64</th>\n",
       "      <td>clean</td>\n",
       "      <td>339427</td>\n",
       "    </tr>\n",
       "  </tbody>\n",
       "</table>\n",
       "</div>"
      ],
      "text/plain": [
       "          word    count\n",
       "19         the  3039935\n",
       "23         and  2479139\n",
       "21         was  1417499\n",
       "36          to  1114528\n",
       "30           a  1052855\n",
       "153       very   887776\n",
       "29          is   657452\n",
       "126         in   598937\n",
       "9           of   579944\n",
       "11         for   526167\n",
       "24        room   480684\n",
       "168   location   465402\n",
       "5         with   458868\n",
       "123         we   455610\n",
       "75       great   440109\n",
       "55        were   418197\n",
       "20       staff   416411\n",
       "3         good   414027\n",
       "161  breakfast   357157\n",
       "64       clean   339427"
      ]
     },
     "metadata": {},
     "output_type": "display_data"
    },
    {
     "name": "stdout",
     "output_type": "stream",
     "text": [
      "The 20 most used words in negative reviews:\n"
     ]
    },
    {
     "data": {
      "text/html": [
       "<div>\n",
       "<style scoped>\n",
       "    .dataframe tbody tr th:only-of-type {\n",
       "        vertical-align: middle;\n",
       "    }\n",
       "\n",
       "    .dataframe tbody tr th {\n",
       "        vertical-align: top;\n",
       "    }\n",
       "\n",
       "    .dataframe thead th {\n",
       "        text-align: right;\n",
       "    }\n",
       "</style>\n",
       "<table border=\"1\" class=\"dataframe\">\n",
       "  <thead>\n",
       "    <tr style=\"text-align: right;\">\n",
       "      <th></th>\n",
       "      <th>word</th>\n",
       "      <th>count</th>\n",
       "    </tr>\n",
       "  </thead>\n",
       "  <tbody>\n",
       "    <tr>\n",
       "      <th>4</th>\n",
       "      <td>the</td>\n",
       "      <td>1574721</td>\n",
       "    </tr>\n",
       "    <tr>\n",
       "      <th>46</th>\n",
       "      <td>a</td>\n",
       "      <td>677423</td>\n",
       "    </tr>\n",
       "    <tr>\n",
       "      <th>77</th>\n",
       "      <td>to</td>\n",
       "      <td>662849</td>\n",
       "    </tr>\n",
       "    <tr>\n",
       "      <th>30</th>\n",
       "      <td>was</td>\n",
       "      <td>660549</td>\n",
       "    </tr>\n",
       "    <tr>\n",
       "      <th>33</th>\n",
       "      <td>no</td>\n",
       "      <td>658170</td>\n",
       "    </tr>\n",
       "    <tr>\n",
       "      <th>76</th>\n",
       "      <td>and</td>\n",
       "      <td>579505</td>\n",
       "    </tr>\n",
       "    <tr>\n",
       "      <th>34</th>\n",
       "      <td>negative</td>\n",
       "      <td>475622</td>\n",
       "    </tr>\n",
       "    <tr>\n",
       "      <th>35</th>\n",
       "      <td>review</td>\n",
       "      <td>470213</td>\n",
       "    </tr>\n",
       "    <tr>\n",
       "      <th>3</th>\n",
       "      <td>in</td>\n",
       "      <td>420892</td>\n",
       "    </tr>\n",
       "    <tr>\n",
       "      <th>66</th>\n",
       "      <td>of</td>\n",
       "      <td>322154</td>\n",
       "    </tr>\n",
       "    <tr>\n",
       "      <th>104</th>\n",
       "      <td>it</td>\n",
       "      <td>307247</td>\n",
       "    </tr>\n",
       "    <tr>\n",
       "      <th>60</th>\n",
       "      <td>not</td>\n",
       "      <td>301995</td>\n",
       "    </tr>\n",
       "    <tr>\n",
       "      <th>27</th>\n",
       "      <td>for</td>\n",
       "      <td>289234</td>\n",
       "    </tr>\n",
       "    <tr>\n",
       "      <th>166</th>\n",
       "      <td>i</td>\n",
       "      <td>284057</td>\n",
       "    </tr>\n",
       "    <tr>\n",
       "      <th>99</th>\n",
       "      <td>but</td>\n",
       "      <td>279120</td>\n",
       "    </tr>\n",
       "    <tr>\n",
       "      <th>44</th>\n",
       "      <td>we</td>\n",
       "      <td>267761</td>\n",
       "    </tr>\n",
       "    <tr>\n",
       "      <th>101</th>\n",
       "      <td>is</td>\n",
       "      <td>266356</td>\n",
       "    </tr>\n",
       "    <tr>\n",
       "      <th>12</th>\n",
       "      <td>room</td>\n",
       "      <td>245388</td>\n",
       "    </tr>\n",
       "    <tr>\n",
       "      <th>232</th>\n",
       "      <td>on</td>\n",
       "      <td>180844</td>\n",
       "    </tr>\n",
       "    <tr>\n",
       "      <th>222</th>\n",
       "      <td>were</td>\n",
       "      <td>174586</td>\n",
       "    </tr>\n",
       "  </tbody>\n",
       "</table>\n",
       "</div>"
      ],
      "text/plain": [
       "         word    count\n",
       "4         the  1574721\n",
       "46          a   677423\n",
       "77         to   662849\n",
       "30        was   660549\n",
       "33         no   658170\n",
       "76        and   579505\n",
       "34   negative   475622\n",
       "35     review   470213\n",
       "3          in   420892\n",
       "66         of   322154\n",
       "104        it   307247\n",
       "60        not   301995\n",
       "27        for   289234\n",
       "166         i   284057\n",
       "99        but   279120\n",
       "44         we   267761\n",
       "101        is   266356\n",
       "12       room   245388\n",
       "232        on   180844\n",
       "222      were   174586"
      ]
     },
     "metadata": {},
     "output_type": "display_data"
    }
   ],
   "source": [
    "review_positive_text = \" \".join(review.lower() for review in train_reviews['review_positive'] if isinstance(review, str))\n",
    "review_negative_text = \" \".join(review.lower() for review in train_reviews['review_negative'] if isinstance(review, str))\n",
    "\n",
    "review_positive_words = review_positive_text.split()\n",
    "review_negative_words = review_negative_text.split()\n",
    "\n",
    "review_positive_word_counts = Counter(review_positive_words)\n",
    "review_negative_word_counts = Counter(review_negative_words)\n",
    "\n",
    "review_positive_word_counts_df = pd.DataFrame(review_positive_word_counts.items(),\n",
    "                                              columns=['word', 'count']).sort_values(by='count', ascending=False)\n",
    "review_negative_word_counts_df = pd.DataFrame(review_negative_word_counts.items(),\n",
    "                                              columns=['word', 'count']).sort_values(by='count', ascending=False)\n",
    "\n",
    "print(\"The 20 most used words in positive reviews:\")\n",
    "display(review_positive_word_counts_df.head(20))\n",
    "\n",
    "print(\"The 20 most used words in negative reviews:\")\n",
    "display(review_negative_word_counts_df.head(20))"
   ]
  },
  {
   "cell_type": "markdown",
   "metadata": {},
   "source": [
    "After converting all text to lowercase, this analysis reveals the most frequently used words in positive and negative reviews.\n",
    "Common stopwords like 'the,' 'and,' and 'was' dominate both lists, highlighting the need for further filtering to focus on meaningful terms.\n",
    "In positive reviews, words like 'room,' 'location,' 'staff,' and 'clean' emphasize satisfaction with accommodations.\n",
    "In negative reviews, terms like 'room,' 'not,' 'negative,' and 'review' point to common sources of dissatisfaction.\n",
    "This step lays the groundwork for deeper insights by refining the word analysis to exclude stopwords and placeholders."
   ]
  },
  {
   "cell_type": "code",
   "execution_count": 10,
   "metadata": {
    "pycharm": {
     "is_executing": true,
     "name": "#%%\n"
    }
   },
   "outputs": [
    {
     "ename": "ModuleNotFoundError",
     "evalue": "No module named 'nltk'",
     "output_type": "error",
     "traceback": [
      "\u001B[0;31m---------------------------------------------------------------------------\u001B[0m",
      "\u001B[0;31mModuleNotFoundError\u001B[0m                       Traceback (most recent call last)",
      "Cell \u001B[0;32mIn[10], line 1\u001B[0m\n\u001B[0;32m----> 1\u001B[0m \u001B[38;5;28;01mimport\u001B[39;00m \u001B[38;5;21;01mnltk\u001B[39;00m\n\u001B[1;32m      2\u001B[0m \u001B[38;5;28;01mfrom\u001B[39;00m \u001B[38;5;21;01mnltk\u001B[39;00m\u001B[38;5;21;01m.\u001B[39;00m\u001B[38;5;21;01mcorpus\u001B[39;00m \u001B[38;5;28;01mimport\u001B[39;00m stopwords\n\u001B[1;32m      4\u001B[0m nltk\u001B[38;5;241m.\u001B[39mdownload(\u001B[38;5;124m'\u001B[39m\u001B[38;5;124mstopwords\u001B[39m\u001B[38;5;124m'\u001B[39m)\n",
      "\u001B[0;31mModuleNotFoundError\u001B[0m: No module named 'nltk'"
     ]
    }
   ],
   "source": [
    "import nltk\n",
    "from nltk.corpus import stopwords\n",
    "\n",
    "nltk.download('stopwords')\n",
    "stop_words = set(stopwords.words('english'))\n",
    "\n",
    "filtered_positive_words = [word for word in review_positive_words if word.lower() not in stop_words]\n",
    "filtered_negative_words = [word for word in review_negative_words if word.lower() not in stop_words]\n",
    "\n",
    "positive_filtered_word_counts = Counter(filtered_positive_words)\n",
    "negative_filtered_word_counts = Counter(filtered_negative_words)\n",
    "\n",
    "positive_filtered_word_counts_df = pd.DataFrame(positive_filtered_word_counts.items(),\n",
    "                         columns=['word', 'count']).sort_values(by='count', ascending=False)\n",
    "negative_filtered_word_counts_df = pd.DataFrame(negative_filtered_word_counts.items(),\n",
    "                                                columns=['word', 'count']).sort_values(by='count', ascending=False)\n",
    "\n",
    "print(\"The 20 most used words in positive reviews: - no stopwords\")\n",
    "display(positive_filtered_word_counts_df.head(20))\n",
    "\n",
    "print(\"The 20 most used words in negative reviews: - no stopwords\")\n",
    "display(negative_filtered_word_counts_df.head(20))"
   ]
  },
  {
   "cell_type": "markdown",
   "metadata": {},
   "source": [
    "After removing stopwords, this analysis highlights the most meaningful words in positive and negative reviews.\n",
    "In positive reviews, frequent words like 'room,' 'location,' 'staff,' 'great,' and 'clean' emphasize satisfaction with accommodations and services.\n",
    "Words such as 'breakfast,' 'comfortable,' and 'friendly' reflect key aspects that users value.\n",
    "In negative reviews, terms like 'room,' 'negative,' 'review,' 'nothing,' and 'small' indicate common sources of dissatisfaction, often tied to room quality or unmet expectations.\n",
    "Interestingly, words like 'breakfast' and 'hotel' appear in both lists, highlighting their importance to users across sentiments.\n",
    "This filtered analysis sharpens our understanding of user feedback themes and provides a foundation for further modeling."
   ]
  },
  {
   "cell_type": "code",
   "execution_count": null,
   "metadata": {
    "pycharm": {
     "is_executing": true,
     "name": "#%%\n"
    }
   },
   "outputs": [],
   "source": []
  },
  {
   "cell_type": "markdown",
   "metadata": {},
   "source": [
    "## Users EDA"
   ]
  },
  {
   "cell_type": "code",
   "execution_count": null,
   "metadata": {
    "pycharm": {
     "is_executing": true,
     "name": "#%%\n"
    }
   },
   "outputs": [],
   "source": [
    "# Set the base directory manually if needed\n",
    "base_dir = os.path.dirname(os.getcwd()) # or specify the folder manually\n",
    "file_path = os.path.join(base_dir, \"data\", \"train_users.csv\")\n",
    "\n",
    "if os.path.exists(file_path):\n",
    "    print(f\"Loading file from: {file_path}\")\n",
    "    train_users = pd.read_csv(file_path)\n",
    "    display(train_users.head())\n",
    "else:\n",
    "    print(f\"File not found: {file_path}\")"
   ]
  },
  {
   "cell_type": "markdown",
   "metadata": {},
   "source": [
    "In this step, we loaded the train_users.csv file, which contains user and accommodation-related information.\n",
    "Each row represents a user-accommodation pair and includes details such as the type of guest (guest_type), the user's country, number of nights stayed (room_nights), and the month of the visit.\n",
    "Accommodation attributes like type (accommodation_type), country, score, star rating, and location characteristics (e.g., ski, beach, or city center proximity) are also provided.\n",
    "This dataset allows us to explore how user preferences and accommodation features relate to reviews and rankings."
   ]
  },
  {
   "cell_type": "code",
   "execution_count": null,
   "metadata": {
    "pycharm": {
     "is_executing": true,
     "name": "#%%\n"
    }
   },
   "outputs": [],
   "source": [
    "# Basic information\n",
    "display(train_users.info())  # Column data types and non-null counts\n",
    "\n",
    "# Summary statistics for numerical columns\n",
    "print(train_users.describe())\n",
    "\n",
    "# Check for missing values\n",
    "missing_values = train_users.isnull().sum()\n",
    "print(\"Missing values:\\n\", missing_values)"
   ]
  },
  {
   "cell_type": "code",
   "execution_count": null,
   "metadata": {
    "pycharm": {
     "is_executing": true,
     "name": "#%%\n"
    }
   },
   "outputs": [],
   "source": [
    "# Fill missing values for text fields\n",
    "train_users['guest_country'].fillna(\"Unknown\", inplace=True)\n",
    "\n",
    "# Normalize all long staying to 30 days max\n",
    "train_users['room_nights'] = train_users['room_nights'].apply(lambda x: min(x, 30))\n",
    "\n",
    "# Verify changes\n",
    "print(train_users.isnull().sum())"
   ]
  },
  {
   "cell_type": "markdown",
   "metadata": {},
   "source": [
    "We analyzed the train_users.csv dataset, which has 13 columns.\n",
    "Only guest_country has 136 missing values.\n",
    "Numerical columns like room_nights show extreme outliers (e.g., 72 nights).\n",
    "Binary location columns (e.g., location_is_ski) indicate these features apply to a small subset.\n",
    "This summary helps identify potential outliers and relationships to explore further."
   ]
  },
  {
   "cell_type": "code",
   "execution_count": null,
   "metadata": {
    "pycharm": {
     "is_executing": true,
     "name": "#%%\n"
    }
   },
   "outputs": [],
   "source": []
  },
  {
   "cell_type": "markdown",
   "metadata": {},
   "source": [
    "## Match EDA"
   ]
  },
  {
   "cell_type": "code",
   "execution_count": null,
   "metadata": {
    "pycharm": {
     "is_executing": true,
     "name": "#%%\n"
    }
   },
   "outputs": [],
   "source": [
    "# Define data types for columns\n",
    "dtypes = {\n",
    "    'user_id': 'object',  # Strings can stay as objects\n",
    "    'accommodation_id': 'int32',  # Reduce from int64 to int32\n",
    "    'review_id': 'object',  # Strings\n",
    "}\n",
    "\n",
    "# Load the datasets with defined dtypes\n",
    "matches = pd.read_csv(\"../data/train_matches.csv\", dtype=dtypes)\n",
    "users = pd.read_csv(\"../data/train_users.csv\", dtype=dtypes)\n",
    "reviews = pd.read_csv(\"../data/train_reviews.csv\", dtype=dtypes)\n"
   ]
  },
  {
   "cell_type": "code",
   "execution_count": null,
   "metadata": {
    "pycharm": {
     "is_executing": true,
     "name": "#%%\n"
    }
   },
   "outputs": [],
   "source": [
    "print(f\"Number of matches: {len(matches)}\")\n",
    "\n",
    "# Merge matches with users on user_id\n",
    "matches_with_users = matches.merge(users, on=['user_id', 'accommodation_id'], how='left', indicator=True)\n",
    "\n",
    "# Check for matches without corresponding users\n",
    "missing_users = matches_with_users[matches_with_users['_merge'] == 'left_only']\n",
    "print(f\"Number of matches without corresponding users: {len(missing_users)}\")\n",
    "\n",
    "# Merge matches with reviews on review_id and accommodation_id\n",
    "matches_with_reviews = matches.merge(reviews, on=['review_id', 'accommodation_id'], how='left', indicator=True)\n",
    "\n",
    "# Check for matches without corresponding reviews\n",
    "missing_reviews = matches_with_reviews[matches_with_reviews['_merge'] == 'left_only']\n",
    "print(f\"Number of matches without corresponding reviews: {len(missing_reviews)}\")\n",
    "\n",
    "# Final check: Matches present in both users and reviews\n",
    "valid_matches = matches_with_users[matches_with_users['_merge'] == 'both'].merge(\n",
    "    matches_with_reviews[matches_with_reviews['_merge'] == 'both'], on=['review_id', 'accommodation_id'], how='inner'\n",
    ")\n",
    "\n",
    "print(f\"Number of valid matches: {len(valid_matches)}\")"
   ]
  },
  {
   "cell_type": "markdown",
   "metadata": {},
   "source": [
    "We validated the matches dataset against users and reviews: all 1,628,989 matches have corresponding entries in both datasets, with no missing users or reviews.\n",
    "This confirms the data's completeness and consistency."
   ]
  },
  {
   "cell_type": "code",
   "execution_count": null,
   "metadata": {
    "pycharm": {
     "is_executing": true,
     "name": "#%%\n"
    }
   },
   "outputs": [],
   "source": [
    "# Define sample size\n",
    "sample_size = 100000  # Adjust based on memory constraints\n",
    "\n",
    "# Sample each DataFrame\n",
    "users_sample = users.sample(n=min(sample_size, len(users)), random_state=42)\n",
    "reviews_sample = reviews.sample(n=min(sample_size, len(reviews)), random_state=42)\n",
    "\n",
    "# Check the sizes of the sampled datasets\n",
    "print(f\"Sampled users: {len(users_sample)}\")\n",
    "print(f\"Sampled reviews: {len(reviews_sample)}\")"
   ]
  },
  {
   "cell_type": "code",
   "execution_count": null,
   "metadata": {
    "pycharm": {
     "is_executing": true,
     "name": "#%%\n"
    }
   },
   "outputs": [],
   "source": [
    "# Sample only accommodation_ids present in matches\n",
    "users_sample = users[users['accommodation_id'].isin(matches['accommodation_id'])].sample(n=100000, random_state=42)\n",
    "reviews_sample = reviews[reviews['accommodation_id'].isin(matches['accommodation_id'])].sample(n=100000, random_state=42)"
   ]
  },
  {
   "cell_type": "code",
   "execution_count": null,
   "metadata": {
    "pycharm": {
     "is_executing": true,
     "name": "#%%\n"
    }
   },
   "outputs": [],
   "source": [
    "# Merge matches with sampled users on accommodation_id\n",
    "matches_with_users = matches.merge(users_sample, on=['accommodation_id'], how='left', indicator=True)\n",
    "\n",
    "# Identify matches without corresponding users\n",
    "missing_users = matches_with_users[matches_with_users['_merge'] == 'left_only']\n",
    "print(f\"Number of matches without corresponding users in sampled data: {len(missing_users)}\")\n",
    "\n",
    "# Merge matches with sampled reviews on accommodation_id\n",
    "matches_with_reviews = matches.merge(reviews_sample, on=['accommodation_id'], how='left', indicator=True)\n",
    "\n",
    "# Identify matches without corresponding reviews\n",
    "missing_reviews = matches_with_reviews[matches_with_reviews['_merge'] == 'left_only']\n",
    "print(f\"Number of matches without corresponding reviews in sampled data: {len(missing_reviews)}\")"
   ]
  },
  {
   "cell_type": "code",
   "execution_count": null,
   "metadata": {
    "pycharm": {
     "is_executing": true,
     "name": "#%%\n"
    }
   },
   "outputs": [],
   "source": [
    "# Create synthetic reviews for missing matches\n",
    "if len(missing_reviews) > 0:\n",
    "    missing_reviews['review_id'] = [f\"synthetic_{i}\" for i in range(len(missing_reviews))]\n",
    "    missing_reviews['review_title'] = \"Synthetic Review\"\n",
    "    missing_reviews['review_positive'] = \"No positive review available\"\n",
    "    missing_reviews['review_negative'] = \"No negative review available\"\n",
    "    missing_reviews['review_score'] = 0.0\n",
    "    missing_reviews['review_helpful_votes'] = 0\n",
    "\n",
    "    # Save synthetic reviews to a CSV file\n",
    "    missing_reviews[['review_id', 'accommodation_id', 'review_title',\n",
    "                     'review_positive', 'review_negative',\n",
    "                     'review_score', 'review_helpful_votes']].to_csv(\"../data/synthetic_reviews_sample.csv\", index=False)\n",
    "\n",
    "    print(f\"Number of synthetic reviews created for sampled data: {len(missing_reviews)}\")\n",
    "else:\n",
    "    print(\"All sampled accommodations have corresponding reviews.\")"
   ]
  },
  {
   "cell_type": "code",
   "execution_count": null,
   "metadata": {
    "pycharm": {
     "is_executing": true,
     "name": "#%%\n"
    }
   },
   "outputs": [],
   "source": []
  },
  {
   "cell_type": "code",
   "execution_count": null,
   "metadata": {},
   "outputs": [],
   "source": []
  },
  {
   "cell_type": "code",
   "execution_count": null,
   "metadata": {},
   "outputs": [],
   "source": []
  },
  {
   "cell_type": "code",
   "execution_count": null,
   "metadata": {},
   "outputs": [],
   "source": []
  }
 ],
 "metadata": {
  "kernelspec": {
   "display_name": "Python 3 (ipykernel)",
   "language": "python",
   "name": "python3"
  },
  "language_info": {
   "codemirror_mode": {
    "name": "ipython",
    "version": 3
   },
   "file_extension": ".py",
   "mimetype": "text/x-python",
   "name": "python",
   "nbconvert_exporter": "python",
   "pygments_lexer": "ipython3",
   "version": "3.10.16"
  }
 },
 "nbformat": 4,
 "nbformat_minor": 4
}