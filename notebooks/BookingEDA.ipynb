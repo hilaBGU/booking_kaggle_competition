{
 "cells": [
  {
   "cell_type": "code",
   "execution_count": null,
   "outputs": [],
   "source": [
    "!conda install -c conda-forge wordcloud"
   ],
   "metadata": {
    "collapsed": false,
    "pycharm": {
     "name": "#%%\n",
     "is_executing": true
    }
   }
  },
  {
   "cell_type": "code",
   "execution_count": 24,
   "outputs": [
    {
     "name": "stdout",
     "output_type": "stream",
     "text": [
      "C:\\Users\\hilak\\anaconda3\\python.exe\n"
     ]
    }
   ],
   "source": [
    "import sys\n",
    "print(sys.executable)"
   ],
   "metadata": {
    "collapsed": false,
    "pycharm": {
     "name": "#%%\n"
    }
   }
  },
  {
   "cell_type": "code",
   "execution_count": 23,
   "outputs": [
    {
     "ename": "ModuleNotFoundError",
     "evalue": "No module named 'wordcloud'",
     "output_type": "error",
     "traceback": [
      "\u001B[1;31m---------------------------------------------------------------------------\u001B[0m",
      "\u001B[1;31mModuleNotFoundError\u001B[0m                       Traceback (most recent call last)",
      "\u001B[1;32m~\\AppData\\Local\\Temp/ipykernel_21856/2206924468.py\u001B[0m in \u001B[0;36m<module>\u001B[1;34m\u001B[0m\n\u001B[0;32m      4\u001B[0m \u001B[1;32mimport\u001B[0m \u001B[0mseaborn\u001B[0m \u001B[1;32mas\u001B[0m \u001B[0msns\u001B[0m\u001B[1;33m\u001B[0m\u001B[1;33m\u001B[0m\u001B[0m\n\u001B[0;32m      5\u001B[0m \u001B[1;32mimport\u001B[0m \u001B[0mos\u001B[0m\u001B[1;33m\u001B[0m\u001B[1;33m\u001B[0m\u001B[0m\n\u001B[1;32m----> 6\u001B[1;33m \u001B[1;32mfrom\u001B[0m \u001B[0mwordcloud\u001B[0m \u001B[1;32mimport\u001B[0m \u001B[0mWordCloud\u001B[0m\u001B[1;33m\u001B[0m\u001B[1;33m\u001B[0m\u001B[0m\n\u001B[0m\u001B[0;32m      7\u001B[0m \u001B[1;33m\u001B[0m\u001B[0m\n",
      "\u001B[1;31mModuleNotFoundError\u001B[0m: No module named 'wordcloud'"
     ]
    }
   ],
   "source": [
    "import pandas as pd\n",
    "import numpy as np\n",
    "import matplotlib.pyplot as plt\n",
    "import seaborn as sns\n",
    "import os\n",
    "from wordcloud import WordCloud"
   ],
   "metadata": {
    "collapsed": false,
    "pycharm": {
     "name": "#%%\n"
    }
   }
  },
  {
   "cell_type": "code",
   "execution_count": 10,
   "outputs": [
    {
     "name": "stdout",
     "output_type": "stream",
     "text": [
      "Loading file from: C:\\Users\\hilak\\PycharmProjects\\booking_kaggel_compatitiom\\data\\train_reviews.csv\n",
      "                              review_id  accommodation_id  \\\n",
      "0  bf762eec-0e44-42ff-a066-6be55a7d0849         489020669   \n",
      "1  3f1a116f-38ed-4fe8-9086-fd71b0f994f9        1533822482   \n",
      "2  2cfd21e7-4e2d-4a31-be9d-9e22c705d76d         222537300   \n",
      "3  a240f502-0ee3-47e3-964b-786b56ed5083         644485349   \n",
      "4  5086e380-21d4-4d5c-be6f-f2d04a57e0ac        -192152850   \n",
      "\n",
      "                                    review_title  \\\n",
      "0  Nice &amp; friendly , Plenty of staff around.   \n",
      "1                                            NaN   \n",
      "2                                            NaN   \n",
      "3                                            NaN   \n",
      "4                                            NaN   \n",
      "\n",
      "                                     review_positive  \\\n",
      "0  Really nice staff. Good food.Fridge with fresh...   \n",
      "1  The staff was helpful and the room was comfort...   \n",
      "2  &quot;Home Sweet Home&quot; is a delightful ho...   \n",
      "3  We havent stayed in a b&amp;b for so many year...   \n",
      "4             Location bed and pillows where so nice   \n",
      "\n",
      "                                     review_negative  review_score  \\\n",
      "0  woken up 2.30 in the morning by very loud peop...          10.0   \n",
      "1  They only placed one wash cloth in the room fo...           9.0   \n",
      "2                                                NaN          10.0   \n",
      "3                                                NaN           9.0   \n",
      "4                                                NaN          10.0   \n",
      "\n",
      "   review_helpful_votes  \n",
      "0                     0  \n",
      "1                     0  \n",
      "2                     3  \n",
      "3                     0  \n",
      "4                     0  \n"
     ]
    }
   ],
   "source": [
    "chunk_size = 100000  # Adjust this size based on memory capacity\n",
    "\n",
    "# Set the base directory manually if needed\n",
    "base_dir = os.path.dirname(os.getcwd()) # or specify the folder manually\n",
    "file_path = os.path.join(base_dir, \"data\", \"train_reviews.csv\")\n",
    "\n",
    "if os.path.exists(file_path):\n",
    "    print(f\"Loading file from: {file_path}\")\n",
    "    train_reviews_chunk = pd.read_csv(file_path, nrows=chunk_size)\n",
    "    print(train_reviews_chunk.head())\n",
    "else:\n",
    "    print(f\"File not found: {file_path}\")\n"
   ],
   "metadata": {
    "collapsed": false,
    "pycharm": {
     "name": "#%%\n"
    }
   }
  },
  {
   "cell_type": "code",
   "execution_count": 11,
   "outputs": [
    {
     "name": "stdout",
     "output_type": "stream",
     "text": [
      "<class 'pandas.core.frame.DataFrame'>\n",
      "RangeIndex: 100000 entries, 0 to 99999\n",
      "Data columns (total 7 columns):\n",
      " #   Column                Non-Null Count   Dtype  \n",
      "---  ------                --------------   -----  \n",
      " 0   review_id             100000 non-null  object \n",
      " 1   accommodation_id      100000 non-null  int64  \n",
      " 2   review_title          67329 non-null   object \n",
      " 3   review_positive       99999 non-null   object \n",
      " 4   review_negative       71236 non-null   object \n",
      " 5   review_score          100000 non-null  float64\n",
      " 6   review_helpful_votes  100000 non-null  int64  \n",
      "dtypes: float64(1), int64(2), object(4)\n",
      "memory usage: 5.3+ MB\n",
      "None\n",
      "       accommodation_id   review_score  review_helpful_votes\n",
      "count      1.000000e+05  100000.000000         100000.000000\n",
      "mean       4.696421e+06       8.863269              0.123210\n",
      "std        1.235953e+09       1.168383              0.624895\n",
      "min       -2.147447e+09       1.000000              0.000000\n",
      "25%       -1.054688e+09       8.000000              0.000000\n",
      "50%       -7.770644e+06       9.000000              0.000000\n",
      "75%        1.080178e+09      10.000000              0.000000\n",
      "max        2.147410e+09      10.000000             91.000000\n",
      "Missing values:\n",
      " review_id                   0\n",
      "accommodation_id            0\n",
      "review_title            32671\n",
      "review_positive             1\n",
      "review_negative         28764\n",
      "review_score                0\n",
      "review_helpful_votes        0\n",
      "dtype: int64\n"
     ]
    }
   ],
   "source": [
    "# Basic information\n",
    "print(train_reviews_chunk.info())  # Column data types and non-null counts\n",
    "\n",
    "# Summary statistics for numerical columns\n",
    "print(train_reviews_chunk.describe())\n",
    "\n",
    "# Check for missing values\n",
    "missing_values = train_reviews_chunk.isnull().sum()\n",
    "print(\"Missing values:\\n\", missing_values)"
   ],
   "metadata": {
    "collapsed": false,
    "pycharm": {
     "name": "#%%\n"
    }
   }
  },
  {
   "cell_type": "code",
   "execution_count": 12,
   "outputs": [
    {
     "name": "stdout",
     "output_type": "stream",
     "text": [
      "review_id               0\n",
      "accommodation_id        0\n",
      "review_title            0\n",
      "review_positive         0\n",
      "review_negative         0\n",
      "review_score            0\n",
      "review_helpful_votes    0\n",
      "dtype: int64\n"
     ]
    }
   ],
   "source": [
    "# Fill missing values for text fields\n",
    "train_reviews_chunk['review_title'].fillna(\"No Title\", inplace=True)\n",
    "train_reviews_chunk['review_positive'].fillna(\"No Positive Review\", inplace=True)\n",
    "train_reviews_chunk['review_negative'].fillna(\"No Negative Review\", inplace=True)\n",
    "\n",
    "# Drop rows with missing `review_score` if it’s critical\n",
    "train_reviews_chunk.dropna(subset=['review_score'], inplace=True)\n",
    "\n",
    "# Verify changes\n",
    "print(train_reviews_chunk.isnull().sum())"
   ],
   "metadata": {
    "collapsed": false,
    "pycharm": {
     "name": "#%%\n"
    }
   }
  },
  {
   "cell_type": "code",
   "execution_count": 13,
   "outputs": [
    {
     "data": {
      "text/plain": "<Figure size 432x288 with 1 Axes>",
      "image/png": "[encoded data removed]"
     },
     "metadata": {
      "needs_background": "light"
     },
     "output_type": "display_data"
    }
   ],
   "source": [
    "# Distribution of review scores\n",
    "sns.histplot(train_reviews_chunk['review_score'], kde=False, bins=10)\n",
    "plt.title(\"Distribution of Review Scores\")\n",
    "plt.xlabel(\"Review Score\")\n",
    "plt.ylabel(\"Frequency\")\n",
    "plt.show()"
   ],
   "metadata": {
    "collapsed": false,
    "pycharm": {
     "name": "#%%\n"
    }
   }
  },
  {
   "cell_type": "code",
   "execution_count": 14,
   "outputs": [
    {
     "data": {
      "text/plain": "<Figure size 432x288 with 1 Axes>",
      "image/png": "[encoded data removed]"
     },
     "metadata": {
      "needs_background": "light"
     },
     "output_type": "display_data"
    },
    {
     "name": "stdout",
     "output_type": "stream",
     "text": [
      "                                  review_id  accommodation_id  \\\n",
      "40413  e99671ef-5091-4e54-8700-a6e4d66e1c11         321160175   \n",
      "77816  3dcb36bc-a09b-4aac-8ec9-d7ad46732bec       -1879783390   \n",
      "66593  32cfba8c-9374-463a-9294-d6b7ed202aed          76946692   \n",
      "59233  836f18ae-6cc9-419a-9a2c-552de185c7eb         321160175   \n",
      "30139  d8481dcf-d691-4e8d-8f45-68adae6f49b9       -1879783390   \n",
      "\n",
      "                                        review_title  \\\n",
      "40413                              Very comfortable.   \n",
      "77816                                       No Title   \n",
      "66593                                       No Title   \n",
      "59233                                           Good   \n",
      "30139  Wonderful stay, great food and fantastic host   \n",
      "\n",
      "                                         review_positive  \\\n",
      "40413  The location was good, the room is cleaned eve...   \n",
      "77816  Everything was great! The apartment (on 2 floo...   \n",
      "66593  Good location, near Rainbow Street and downtow...   \n",
      "59233  The staff was very friendly (Especially the ni...   \n",
      "30139  Very good location for getting to the centre o...   \n",
      "\n",
      "                                         review_negative  review_score  \\\n",
      "40413  Need to have more selection of juice drinks av...           9.0   \n",
      "77816                                                  -          10.0   \n",
      "66593                                 No Negative Review          10.0   \n",
      "59233  I didn&#39;t find even a bottle of water in th...           9.0   \n",
      "30139                                 No Negative Review           9.0   \n",
      "\n",
      "       review_helpful_votes  \n",
      "40413                    91  \n",
      "77816                    62  \n",
      "66593                    49  \n",
      "59233                    41  \n",
      "30139                    36  \n"
     ]
    }
   ],
   "source": [
    "# Plot helpful votes\n",
    "sns.boxplot(x=train_reviews_chunk['review_helpful_votes'])\n",
    "plt.title(\"Distribution of Helpful Votes\")\n",
    "plt.show()\n",
    "\n",
    "# Top helpful reviews\n",
    "print(train_reviews_chunk.sort_values(by='review_helpful_votes', ascending=False).head())"
   ],
   "metadata": {
    "collapsed": false,
    "pycharm": {
     "name": "#%%\n"
    }
   }
  },
  {
   "cell_type": "code",
   "execution_count": 15,
   "outputs": [
    {
     "data": {
      "text/plain": "<Figure size 432x288 with 1 Axes>",
      "image/png": "[encoded data removed]"
     },
     "metadata": {
      "needs_background": "light"
     },
     "output_type": "display_data"
    }
   ],
   "source": [
    "# Add a column for review text length\n",
    "train_reviews_chunk['positive_review_length'] = train_reviews_chunk['review_positive'].apply(len)\n",
    "train_reviews_chunk['negative_review_length'] = train_reviews_chunk['review_negative'].apply(len)\n",
    "\n",
    "# Plot the distribution of review lengths\n",
    "sns.histplot(train_reviews_chunk['positive_review_length'], bins=30, kde=True, label=\"Positive Reviews\")\n",
    "sns.histplot(train_reviews_chunk['negative_review_length'], bins=30, kde=True, color='red', label=\"Negative Reviews\")\n",
    "plt.legend()\n",
    "plt.title(\"Distribution of Review Lengths\")\n",
    "plt.show()"
   ],
   "metadata": {
    "collapsed": false,
    "pycharm": {
     "name": "#%%\n"
    }
   }
  },
  {
   "cell_type": "code",
   "execution_count": 19,
   "outputs": [
    {
     "ename": "NameError",
     "evalue": "name 'WordCloud' is not defined",
     "output_type": "error",
     "traceback": [
      "\u001B[1;31m---------------------------------------------------------------------------\u001B[0m",
      "\u001B[1;31mNameError\u001B[0m                                 Traceback (most recent call last)",
      "\u001B[1;32m~\\AppData\\Local\\Temp/ipykernel_21856/3257046202.py\u001B[0m in \u001B[0;36m<module>\u001B[1;34m\u001B[0m\n\u001B[0;32m      3\u001B[0m \u001B[1;33m\u001B[0m\u001B[0m\n\u001B[0;32m      4\u001B[0m \u001B[1;31m# Generate a word cloud\u001B[0m\u001B[1;33m\u001B[0m\u001B[1;33m\u001B[0m\u001B[0m\n\u001B[1;32m----> 5\u001B[1;33m \u001B[0mwordcloud\u001B[0m \u001B[1;33m=\u001B[0m \u001B[0mWordCloud\u001B[0m\u001B[1;33m(\u001B[0m\u001B[0mwidth\u001B[0m\u001B[1;33m=\u001B[0m\u001B[1;36m800\u001B[0m\u001B[1;33m,\u001B[0m \u001B[0mheight\u001B[0m\u001B[1;33m=\u001B[0m\u001B[1;36m400\u001B[0m\u001B[1;33m,\u001B[0m \u001B[0mbackground_color\u001B[0m\u001B[1;33m=\u001B[0m\u001B[1;34m'white'\u001B[0m\u001B[1;33m)\u001B[0m\u001B[1;33m.\u001B[0m\u001B[0mgenerate\u001B[0m\u001B[1;33m(\u001B[0m\u001B[0mtext\u001B[0m\u001B[1;33m)\u001B[0m\u001B[1;33m\u001B[0m\u001B[1;33m\u001B[0m\u001B[0m\n\u001B[0m\u001B[0;32m      6\u001B[0m \u001B[1;33m\u001B[0m\u001B[0m\n\u001B[0;32m      7\u001B[0m \u001B[1;31m# Display the word cloud\u001B[0m\u001B[1;33m\u001B[0m\u001B[1;33m\u001B[0m\u001B[0m\n",
      "\u001B[1;31mNameError\u001B[0m: name 'WordCloud' is not defined"
     ]
    }
   ],
   "source": [
    "\n",
    "# Combine all positive reviews\n",
    "text = \" \".join(review for review in train_reviews_chunk['review_positive'])\n",
    "\n",
    "# Generate a word cloud\n",
    "wordcloud = WordCloud(width=800, height=400, background_color='white').generate(text)\n",
    "\n",
    "# Display the word cloud\n",
    "plt.figure(figsize=(10, 5))\n",
    "plt.imshow(wordcloud, interpolation='bilinear')\n",
    "plt.axis('off')\n",
    "plt.show()"
   ],
   "metadata": {
    "collapsed": false,
    "pycharm": {
     "name": "#%%\n"
    }
   }
  },
  {
   "cell_type": "code",
   "execution_count": null,
   "outputs": [],
   "source": [],
   "metadata": {
    "collapsed": false,
    "pycharm": {
     "name": "#%%\n"
    }
   }
  }
 ],
 "metadata": {
  "kernelspec": {
   "display_name": "Python 3",
   "language": "python",
   "name": "python3"
  },
  "language_info": {
   "codemirror_mode": {
    "name": "ipython",
    "version": 2
   },
   "file_extension": ".py",
   "mimetype": "text/x-python",
   "name": "python",
   "nbconvert_exporter": "python",
   "pygments_lexer": "ipython2",
   "version": "2.7.6"
  }
 },
 "nbformat": 4,
 "nbformat_minor": 0
}