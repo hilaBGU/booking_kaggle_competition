{
 "cells": [
  {
   "cell_type": "markdown",
   "source": [
    "# Booking EDA"
   ],
   "metadata": {
    "collapsed": false
   }
  },
  {
   "cell_type": "markdown",
   "source": [
    "### This notebook is dedicated to exploratory data analysis (EDA) of the datasets provided for the Booking.com Kaggle competition.\n",
    "The goal of the EDA is to understand the structure, quality, and key patterns in the data to inform the feature engineering and modeling steps later.\n",
    "Through this process, we explore relationships between user reviews, accommodations, and user characteristics, while identifying potential issues such as missing values or data inconsistencies.\n",
    "The EDA provides the foundation for building an effective ranking model."
   ],
   "metadata": {
    "collapsed": false
   }
  },
  {
   "cell_type": "markdown",
   "source": [
    "#### Installtions and Imports"
   ],
   "metadata": {
    "collapsed": false
   }
  },
  {
   "cell_type": "code",
   "execution_count": 25,
   "outputs": [
    {
     "name": "stdout",
     "output_type": "stream",
     "text": [
      "C:\\Users\\hilak\\anaconda3\\python.exe\n"
     ]
    }
   ],
   "source": [
    "import sys\n",
    "print(sys.executable)"
   ],
   "metadata": {
    "collapsed": false,
    "pycharm": {
     "name": "#%%\n"
    }
   }
  },
  {
   "cell_type": "code",
   "execution_count": 26,
   "outputs": [],
   "source": [
    "import pandas as pd\n",
    "import numpy as np\n",
    "import matplotlib.pyplot as plt\n",
    "import seaborn as sns\n",
    "import os\n",
    "from collections import Counter"
   ],
   "metadata": {
    "collapsed": false,
    "pycharm": {
     "name": "#%%\n"
    }
   }
  },
  {
   "cell_type": "markdown",
   "source": [
    "## Reviews EDA"
   ],
   "metadata": {
    "collapsed": false
   }
  },
  {
   "cell_type": "code",
   "execution_count": 27,
   "outputs": [
    {
     "name": "stdout",
     "output_type": "stream",
     "text": [
      "Loading file from: C:\\Users\\hilak\\PycharmProjects\\booking_kaggle_competition\\data\\train_reviews.csv\n",
      "                              review_id  accommodation_id  \\\n",
      "0  bf762eec-0e44-42ff-a066-6be55a7d0849         489020669   \n",
      "1  3f1a116f-38ed-4fe8-9086-fd71b0f994f9        1533822482   \n",
      "2  2cfd21e7-4e2d-4a31-be9d-9e22c705d76d         222537300   \n",
      "3  a240f502-0ee3-47e3-964b-786b56ed5083         644485349   \n",
      "4  5086e380-21d4-4d5c-be6f-f2d04a57e0ac        -192152850   \n",
      "\n",
      "                                    review_title  \\\n",
      "0  Nice &amp; friendly , Plenty of staff around.   \n",
      "1                                            NaN   \n",
      "2                                            NaN   \n",
      "3                                            NaN   \n",
      "4                                            NaN   \n",
      "\n",
      "                                     review_positive  \\\n",
      "0  Really nice staff. Good food.Fridge with fresh...   \n",
      "1  The staff was helpful and the room was comfort...   \n",
      "2  &quot;Home Sweet Home&quot; is a delightful ho...   \n",
      "3  We havent stayed in a b&amp;b for so many year...   \n",
      "4             Location bed and pillows where so nice   \n",
      "\n",
      "                                     review_negative  review_score  \\\n",
      "0  woken up 2.30 in the morning by very loud peop...          10.0   \n",
      "1  They only placed one wash cloth in the room fo...           9.0   \n",
      "2                                                NaN          10.0   \n",
      "3                                                NaN           9.0   \n",
      "4                                                NaN          10.0   \n",
      "\n",
      "   review_helpful_votes  \n",
      "0                     0  \n",
      "1                     0  \n",
      "2                     3  \n",
      "3                     0  \n",
      "4                     0  \n"
     ]
    }
   ],
   "source": [
    "# Set the base directory manually if needed\n",
    "base_dir = os.path.dirname(os.getcwd()) # or specify the folder manually\n",
    "file_path = os.path.join(base_dir, \"data\", \"train_reviews.csv\")\n",
    "\n",
    "if os.path.exists(file_path):\n",
    "    print(f\"Loading file from: {file_path}\")\n",
    "    train_reviews = pd.read_csv(file_path)\n",
    "    print(train_reviews.head())\n",
    "else:\n",
    "    print(f\"File not found: {file_path}\")\n"
   ],
   "metadata": {
    "collapsed": false,
    "pycharm": {
     "name": "#%%\n"
    }
   }
  },
  {
   "cell_type": "markdown",
   "source": [
    "We loaded the train_reviews.csv file to inspect its structure.\n",
    "It contains review details like IDs, scores, and text fields. Some columns, like review_title and review_negative, have missing values to address later"
   ],
   "metadata": {
    "collapsed": false
   }
  },
  {
   "cell_type": "code",
   "execution_count": 28,
   "outputs": [
    {
     "name": "stdout",
     "output_type": "stream",
     "text": [
      "<class 'pandas.core.frame.DataFrame'>\n",
      "RangeIndex: 1628989 entries, 0 to 1628988\n",
      "Data columns (total 7 columns):\n",
      " #   Column                Non-Null Count    Dtype  \n",
      "---  ------                --------------    -----  \n",
      " 0   review_id             1628989 non-null  object \n",
      " 1   accommodation_id      1628989 non-null  int64  \n",
      " 2   review_title          1097128 non-null  object \n",
      " 3   review_positive       1628981 non-null  object \n",
      " 4   review_negative       1159440 non-null  object \n",
      " 5   review_score          1628989 non-null  float64\n",
      " 6   review_helpful_votes  1628989 non-null  int64  \n",
      "dtypes: float64(1), int64(2), object(4)\n",
      "memory usage: 87.0+ MB\n",
      "None\n",
      "       accommodation_id  review_score  review_helpful_votes\n",
      "count      1.628989e+06  1.628989e+06          1.628989e+06\n",
      "mean       3.079934e+06  8.871634e+00          1.217989e-01\n",
      "std        1.235929e+09  1.166345e+00          5.082283e-01\n",
      "min       -2.147447e+09  1.000000e+00          0.000000e+00\n",
      "25%       -1.056474e+09  8.000000e+00          0.000000e+00\n",
      "50%       -3.509157e+06  9.000000e+00          0.000000e+00\n",
      "75%        1.076218e+09  1.000000e+01          0.000000e+00\n",
      "max        2.147458e+09  1.000000e+01          9.100000e+01\n",
      "Missing values:\n",
      " review_id                    0\n",
      "accommodation_id             0\n",
      "review_title            531861\n",
      "review_positive              8\n",
      "review_negative         469549\n",
      "review_score                 0\n",
      "review_helpful_votes         0\n",
      "dtype: int64\n"
     ]
    }
   ],
   "source": [
    "# Basic information\n",
    "print(train_reviews.info())  # Column data types and non-null counts\n",
    "\n",
    "# Summary statistics for numerical columns\n",
    "print(train_reviews.describe())\n",
    "\n",
    "# Check for missing values\n",
    "missing_values = train_reviews.isnull().sum()\n",
    "print(\"Missing values:\\n\", missing_values)"
   ],
   "metadata": {
    "collapsed": false,
    "pycharm": {
     "name": "#%%\n"
    }
   }
  },
  {
   "cell_type": "code",
   "execution_count": 29,
   "outputs": [
    {
     "name": "stdout",
     "output_type": "stream",
     "text": [
      "review_id               0\n",
      "accommodation_id        0\n",
      "review_title            0\n",
      "review_positive         0\n",
      "review_negative         0\n",
      "review_score            0\n",
      "review_helpful_votes    0\n",
      "dtype: int64\n"
     ]
    }
   ],
   "source": [
    "# Fill missing values for text fields\n",
    "train_reviews['review_title'].fillna(\"No Title\", inplace=True)\n",
    "train_reviews['review_positive'].fillna(\"No Positive Review\", inplace=True)\n",
    "train_reviews['review_negative'].fillna(\"No Negative Review\", inplace=True)\n",
    "\n",
    "# Drop rows with missing `review_score` if it’s critical\n",
    "train_reviews.dropna(subset=['review_score'], inplace=True)\n",
    "\n",
    "# Verify changes\n",
    "print(train_reviews.isnull().sum())"
   ],
   "metadata": {
    "collapsed": false,
    "pycharm": {
     "name": "#%%\n"
    }
   }
  },
  {
   "cell_type": "markdown",
   "source": [
    "In this step, we examined the overall structure, summary statistics, and missing values in the train_reviews dataset.\n",
    "The dataset contains columns for review details like score, helpful votes, and text.\n",
    "Key observations include missing values in review_title (32.7%), review_positive (1), and review_negative (28.8%).\n",
    "Numeric columns, such as review_score and review_helpful_votes, appear complete.\n",
    "This analysis highlights the need for handling missing values and potential outliers before modeling."
   ],
   "metadata": {
    "collapsed": false
   }
  },
  {
   "cell_type": "code",
   "execution_count": 30,
   "outputs": [
    {
     "data": {
      "text/plain": "<Figure size 432x288 with 1 Axes>",
      "image/png": "[encoded data removed]"
     },
     "metadata": {
      "needs_background": "light"
     },
     "output_type": "display_data"
    }
   ],
   "source": [
    "# Distribution of review scores\n",
    "sns.histplot(train_reviews['review_score'], kde=False, bins=10)\n",
    "plt.title(\"Distribution of Review Scores\")\n",
    "plt.xlabel(\"Review Score\")\n",
    "plt.ylabel(\"Frequency\")\n",
    "plt.show()"
   ],
   "metadata": {
    "collapsed": false,
    "pycharm": {
     "name": "#%%\n"
    }
   }
  },
  {
   "cell_type": "markdown",
   "source": [
    "This visualization shows the distribution of review scores in the dataset.\n",
    "We observe a strong skew towards higher scores, with the majority of reviews receiving scores of 8 or above.\n",
    "This suggests a bias towards positive feedback, which could influence the model's ability to differentiate between reviews.\n",
    "Handling this imbalance may be necessary in later stages of analysis or modeling."
   ],
   "metadata": {
    "collapsed": false
   }
  },
  {
   "cell_type": "code",
   "execution_count": 31,
   "outputs": [
    {
     "data": {
      "text/plain": "<Figure size 432x288 with 1 Axes>",
      "image/png": "[encoded data removed]"
     },
     "metadata": {
      "needs_background": "light"
     },
     "output_type": "display_data"
    },
    {
     "name": "stdout",
     "output_type": "stream",
     "text": [
      "                                   review_id  accommodation_id  \\\n",
      "40413   e99671ef-5091-4e54-8700-a6e4d66e1c11         321160175   \n",
      "680897  6e6279a8-a41e-43f7-8046-17e58b7f9ac1         321160175   \n",
      "77816   3dcb36bc-a09b-4aac-8ec9-d7ad46732bec       -1879783390   \n",
      "636943  8a1fdb1a-b6f9-417c-a993-6d1282e553dc       -1879783390   \n",
      "151811  427b288a-450a-480d-af64-98de6febb8b8       -1879783390   \n",
      "\n",
      "                                 review_title  \\\n",
      "40413                       Very comfortable.   \n",
      "680897                               No Title   \n",
      "77816                                No Title   \n",
      "636943      The most perfect spot in Bologna.   \n",
      "151811  Great Apartment for visiting Bologna.   \n",
      "\n",
      "                                          review_positive  \\\n",
      "40413   The location was good, the room is cleaned eve...   \n",
      "680897  nice staff ( especially Youssra and Marwa) , c...   \n",
      "77816   Everything was great! The apartment (on 2 floo...   \n",
      "636943  Our host was most wonderfull, she gave us a wa...   \n",
      "151811  Great quiet and secure location less than 10 m...   \n",
      "\n",
      "                                          review_negative  review_score  \\\n",
      "40413   Need to have more selection of juice drinks av...           9.0   \n",
      "680897                                 No Negative Review           9.0   \n",
      "77816                                                   -          10.0   \n",
      "636943                                 No Negative Review           9.0   \n",
      "151811  Only small negative was noise from other apart...           9.0   \n",
      "\n",
      "        review_helpful_votes  \n",
      "40413                     91  \n",
      "680897                    88  \n",
      "77816                     62  \n",
      "636943                    61  \n",
      "151811                    61  \n"
     ]
    }
   ],
   "source": [
    "# Plot helpful votes\n",
    "sns.boxplot(x=train_reviews['review_helpful_votes'])\n",
    "plt.title(\"Distribution of Helpful Votes\")\n",
    "plt.show()\n",
    "\n",
    "# Top helpful reviews\n",
    "print(train_reviews.sort_values(by='review_helpful_votes', ascending=False).head())"
   ],
   "metadata": {
    "collapsed": false,
    "pycharm": {
     "name": "#%%\n"
    }
   }
  },
  {
   "cell_type": "markdown",
   "source": [
    "This analysis focuses on reviews with the highest helpful votes, as seen in the table and corresponding box plot.\n",
    "The majority of reviews have zero or very few helpful votes, while a small subset—represented by outliers—received significantly higher counts (e.g., 91 votes).\n",
    "These highly helpful reviews often feature detailed positive feedback and high scores (9 or 10), with occasional constructive negative comments.\n",
    "Understanding the characteristics of these outliers can help refine the ranking model by emphasizing factors that make reviews useful to users."
   ],
   "metadata": {
    "collapsed": false
   }
  },
  {
   "cell_type": "code",
   "execution_count": 32,
   "outputs": [
    {
     "data": {
      "text/plain": "<Figure size 432x288 with 1 Axes>",
      "image/png": "[encoded data removed]"
     },
     "metadata": {
      "needs_background": "light"
     },
     "output_type": "display_data"
    }
   ],
   "source": [
    "# Add a column for review text length\n",
    "train_reviews['positive_review_length'] = train_reviews['review_positive'].apply(len)\n",
    "train_reviews['negative_review_length'] = train_reviews['review_negative'].apply(len)\n",
    "\n",
    "# Plot the distribution of review lengths\n",
    "sns.histplot(train_reviews['positive_review_length'], bins=30, kde=True, label=\"Positive Reviews\")\n",
    "sns.histplot(train_reviews['negative_review_length'], bins=30, kde=True, color='red', label=\"Negative Reviews\")\n",
    "plt.legend()\n",
    "plt.title(\"Distribution of Review Lengths\")\n",
    "plt.xlabel(\"Review Length\")\n",
    "plt.ylabel(\"Frequency\")\n",
    "plt.show()"
   ],
   "metadata": {
    "collapsed": false,
    "pycharm": {
     "name": "#%%\n"
    }
   }
  },
  {
   "cell_type": "markdown",
   "source": [
    "This plot visualizes the distribution of review lengths for positive and negative reviews.\n",
    "The x-axis represents the length of the review text, while the y-axis shows the frequency.\n",
    "Most reviews are relatively short, with a steep drop-off after 250 characters.\n",
    "Positive and negative reviews follow similar patterns, though negative reviews tend to be slightly shorter on average.\n",
    "This information can help us understand user behavior and the importance of review length in the ranking model."
   ],
   "metadata": {
    "collapsed": false,
    "pycharm": {
     "name": "#%% md\n"
    }
   }
  },
  {
   "cell_type": "code",
   "execution_count": null,
   "outputs": [],
   "source": [
    "review_positive_text = \" \".join(review.lower() for review in train_reviews['review_positive'] if isinstance(review, str))\n",
    "review_negative_text = \" \".join(review.lower() for review in train_reviews['review_negative'] if isinstance(review, str))\n",
    "\n",
    "review_positive_words = review_positive_text.split()\n",
    "review_negative_words = review_negative_text.split()\n",
    "\n",
    "review_positive_word_counts = Counter(review_positive_words)\n",
    "review_negative_word_counts = Counter(review_negative_words)\n",
    "\n",
    "review_positive_word_counts_df = pd.DataFrame(review_positive_word_counts.items(),\n",
    "                                              columns=['word', 'count']).sort_values(by='count', ascending=False)\n",
    "review_negative_word_counts_df = pd.DataFrame(review_negative_word_counts.items(),\n",
    "                                              columns=['word', 'count']).sort_values(by='count', ascending=False)\n",
    "\n",
    "print(\"The 20 most used words in positive reviews:\")\n",
    "print(review_positive_word_counts_df.head(20))\n",
    "\n",
    "print(\"The 20 most used words in negative reviews:\")\n",
    "print(review_negative_word_counts_df.head(20))"
   ],
   "metadata": {
    "collapsed": false,
    "pycharm": {
     "name": "#%%\n",
     "is_executing": true
    }
   }
  },
  {
   "cell_type": "markdown",
   "source": [
    "After converting all text to lowercase, this analysis reveals the most frequently used words in positive and negative reviews.\n",
    "Common stopwords like 'the,' 'and,' and 'was' dominate both lists, highlighting the need for further filtering to focus on meaningful terms.\n",
    "In positive reviews, words like 'room,' 'location,' 'staff,' and 'clean' emphasize satisfaction with accommodations.\n",
    "In negative reviews, terms like 'room,' 'not,' 'negative,' and 'review' point to common sources of dissatisfaction.\n",
    "This step lays the groundwork for deeper insights by refining the word analysis to exclude stopwords and placeholders."
   ],
   "metadata": {
    "collapsed": false
   }
  },
  {
   "cell_type": "code",
   "execution_count": null,
   "outputs": [],
   "source": [
    "import nltk\n",
    "from nltk.corpus import stopwords\n",
    "\n",
    "nltk.download('stopwords')\n",
    "stop_words = set(stopwords.words('english'))\n",
    "\n",
    "filtered_positive_words = [word for word in review_positive_words if word.lower() not in stop_words]\n",
    "filtered_negative_words = [word for word in review_negative_words if word.lower() not in stop_words]\n",
    "\n",
    "positive_filtered_word_counts = Counter(filtered_positive_words)\n",
    "negative_filtered_word_counts = Counter(filtered_negative_words)\n",
    "\n",
    "positive_filtered_word_counts_df = pd.DataFrame(positive_filtered_word_counts.items(),\n",
    "                         columns=['word', 'count']).sort_values(by='count', ascending=False)\n",
    "negative_filtered_word_counts_df = pd.DataFrame(negative_filtered_word_counts.items(),\n",
    "                                                columns=['word', 'count']).sort_values(by='count', ascending=False)\n",
    "\n",
    "print(\"The 20 most used words in positive reviews: - no stopwords\")\n",
    "print(positive_filtered_word_counts_df.head(20))\n",
    "\n",
    "print(\"The 20 most used words in negative reviews: - no stopwords\")\n",
    "print(negative_filtered_word_counts_df.head(20))"
   ],
   "metadata": {
    "collapsed": false,
    "pycharm": {
     "name": "#%%\n",
     "is_executing": true
    }
   }
  },
  {
   "cell_type": "markdown",
   "source": [
    "After removing stopwords, this analysis highlights the most meaningful words in positive and negative reviews.\n",
    "In positive reviews, frequent words like 'room,' 'location,' 'staff,' 'great,' and 'clean' emphasize satisfaction with accommodations and services.\n",
    "Words such as 'breakfast,' 'comfortable,' and 'friendly' reflect key aspects that users value.\n",
    "In negative reviews, terms like 'room,' 'negative,' 'review,' 'nothing,' and 'small' indicate common sources of dissatisfaction, often tied to room quality or unmet expectations.\n",
    "Interestingly, words like 'breakfast' and 'hotel' appear in both lists, highlighting their importance to users across sentiments.\n",
    "This filtered analysis sharpens our understanding of user feedback themes and provides a foundation for further modeling."
   ],
   "metadata": {
    "collapsed": false
   }
  },
  {
   "cell_type": "code",
   "execution_count": null,
   "outputs": [],
   "source": [],
   "metadata": {
    "collapsed": false,
    "pycharm": {
     "name": "#%%\n",
     "is_executing": true
    }
   }
  },
  {
   "cell_type": "markdown",
   "source": [
    "## Users EDA"
   ],
   "metadata": {
    "collapsed": false
   }
  },
  {
   "cell_type": "code",
   "execution_count": null,
   "outputs": [],
   "source": [
    "# Set the base directory manually if needed\n",
    "base_dir = os.path.dirname(os.getcwd()) # or specify the folder manually\n",
    "file_path = os.path.join(base_dir, \"data\", \"train_users.csv\")\n",
    "\n",
    "if os.path.exists(file_path):\n",
    "    print(f\"Loading file from: {file_path}\")\n",
    "    train_users = pd.read_csv(file_path)\n",
    "    print(train_users.head())\n",
    "else:\n",
    "    print(f\"File not found: {file_path}\")"
   ],
   "metadata": {
    "collapsed": false,
    "pycharm": {
     "name": "#%%\n",
     "is_executing": true
    }
   }
  },
  {
   "cell_type": "markdown",
   "source": [
    "In this step, we loaded the train_users.csv file, which contains user and accommodation-related information.\n",
    "Each row represents a user-accommodation pair and includes details such as the type of guest (guest_type), the user's country, number of nights stayed (room_nights), and the month of the visit.\n",
    "Accommodation attributes like type (accommodation_type), country, score, star rating, and location characteristics (e.g., ski, beach, or city center proximity) are also provided.\n",
    "This dataset allows us to explore how user preferences and accommodation features relate to reviews and rankings."
   ],
   "metadata": {
    "collapsed": false
   }
  },
  {
   "cell_type": "code",
   "execution_count": null,
   "outputs": [],
   "source": [
    "# Basic information\n",
    "print(train_users.info())  # Column data types and non-null counts\n",
    "\n",
    "# Summary statistics for numerical columns\n",
    "print(train_users.describe())\n",
    "\n",
    "# Check for missing values\n",
    "missing_values = train_users.isnull().sum()\n",
    "print(\"Missing values:\\n\", missing_values)"
   ],
   "metadata": {
    "collapsed": false,
    "pycharm": {
     "name": "#%%\n",
     "is_executing": true
    }
   }
  },
  {
   "cell_type": "code",
   "execution_count": null,
   "outputs": [],
   "source": [
    "# Fill missing values for text fields\n",
    "train_users['guest_country'].fillna(\"Unknown\", inplace=True)\n",
    "\n",
    "# Normalize all long staying to 30 days max\n",
    "train_users['room_nights'] = train_users['room_nights'].apply(lambda x: min(x, 30))\n",
    "\n",
    "# Verify changes\n",
    "print(train_users.isnull().sum())"
   ],
   "metadata": {
    "collapsed": false,
    "pycharm": {
     "name": "#%%\n",
     "is_executing": true
    }
   }
  },
  {
   "cell_type": "markdown",
   "source": [
    "We analyzed the train_users.csv dataset, which has 13 columns.\n",
    "Only guest_country has 136 missing values.\n",
    "Numerical columns like room_nights show extreme outliers (e.g., 72 nights).\n",
    "Binary location columns (e.g., location_is_ski) indicate these features apply to a small subset.\n",
    "This summary helps identify potential outliers and relationships to explore further."
   ],
   "metadata": {
    "collapsed": false
   }
  },
  {
   "cell_type": "code",
   "execution_count": null,
   "outputs": [],
   "source": [],
   "metadata": {
    "collapsed": false,
    "pycharm": {
     "name": "#%%\n",
     "is_executing": true
    }
   }
  },
  {
   "cell_type": "markdown",
   "source": [
    "## Match EDA"
   ],
   "metadata": {
    "collapsed": false
   }
  },
  {
   "cell_type": "code",
   "execution_count": null,
   "outputs": [],
   "source": [
    "# Define data types for columns\n",
    "dtypes = {\n",
    "    'user_id': 'object',  # Strings can stay as objects\n",
    "    'accommodation_id': 'int32',  # Reduce from int64 to int32\n",
    "    'review_id': 'object',  # Strings\n",
    "}\n",
    "\n",
    "# Load the datasets with defined dtypes\n",
    "matches = pd.read_csv(\"../data/train_matches.csv\", dtype=dtypes)\n",
    "users = pd.read_csv(\"../data/train_users.csv\", dtype=dtypes)\n",
    "reviews = pd.read_csv(\"../data/train_reviews.csv\", dtype=dtypes)\n"
   ],
   "metadata": {
    "collapsed": false,
    "pycharm": {
     "name": "#%%\n",
     "is_executing": true
    }
   }
  },
  {
   "cell_type": "code",
   "execution_count": null,
   "outputs": [],
   "source": [
    "print(f\"Number of matches: {len(matches)}\")\n",
    "\n",
    "# Merge matches with users on user_id\n",
    "matches_with_users = matches.merge(users, on=['user_id', 'accommodation_id'], how='left', indicator=True)\n",
    "\n",
    "# Check for matches without corresponding users\n",
    "missing_users = matches_with_users[matches_with_users['_merge'] == 'left_only']\n",
    "print(f\"Number of matches without corresponding users: {len(missing_users)}\")\n",
    "\n",
    "# Merge matches with reviews on review_id and accommodation_id\n",
    "matches_with_reviews = matches.merge(reviews, on=['review_id', 'accommodation_id'], how='left', indicator=True)\n",
    "\n",
    "# Check for matches without corresponding reviews\n",
    "missing_reviews = matches_with_reviews[matches_with_reviews['_merge'] == 'left_only']\n",
    "print(f\"Number of matches without corresponding reviews: {len(missing_reviews)}\")\n",
    "\n",
    "# Final check: Matches present in both users and reviews\n",
    "valid_matches = matches_with_users[matches_with_users['_merge'] == 'both'].merge(\n",
    "    matches_with_reviews[matches_with_reviews['_merge'] == 'both'], on=['review_id', 'accommodation_id'], how='inner'\n",
    ")\n",
    "\n",
    "print(f\"Number of valid matches: {len(valid_matches)}\")"
   ],
   "metadata": {
    "collapsed": false,
    "pycharm": {
     "name": "#%%\n",
     "is_executing": true
    }
   }
  },
  {
   "cell_type": "markdown",
   "source": [
    "We validated the matches dataset against users and reviews: all 1,628,989 matches have corresponding entries in both datasets, with no missing users or reviews.\n",
    "This confirms the data's completeness and consistency."
   ],
   "metadata": {
    "collapsed": false
   }
  },
  {
   "cell_type": "code",
   "execution_count": null,
   "outputs": [],
   "source": [
    "# Define sample size\n",
    "sample_size = 100000  # Adjust based on memory constraints\n",
    "\n",
    "# Sample each DataFrame\n",
    "users_sample = users.sample(n=min(sample_size, len(users)), random_state=42)\n",
    "reviews_sample = reviews.sample(n=min(sample_size, len(reviews)), random_state=42)\n",
    "\n",
    "# Check the sizes of the sampled datasets\n",
    "print(f\"Sampled users: {len(users_sample)}\")\n",
    "print(f\"Sampled reviews: {len(reviews_sample)}\")"
   ],
   "metadata": {
    "collapsed": false,
    "pycharm": {
     "name": "#%%\n",
     "is_executing": true
    }
   }
  },
  {
   "cell_type": "code",
   "execution_count": null,
   "outputs": [],
   "source": [
    "# Sample only accommodation_ids present in matches\n",
    "users_sample = users[users['accommodation_id'].isin(matches['accommodation_id'])].sample(n=100000, random_state=42)\n",
    "reviews_sample = reviews[reviews['accommodation_id'].isin(matches['accommodation_id'])].sample(n=100000, random_state=42)"
   ],
   "metadata": {
    "collapsed": false,
    "pycharm": {
     "name": "#%%\n",
     "is_executing": true
    }
   }
  },
  {
   "cell_type": "code",
   "execution_count": null,
   "outputs": [],
   "source": [
    "# Merge matches with sampled users on accommodation_id\n",
    "matches_with_users = matches.merge(users_sample, on=['accommodation_id'], how='left', indicator=True)\n",
    "\n",
    "# Identify matches without corresponding users\n",
    "missing_users = matches_with_users[matches_with_users['_merge'] == 'left_only']\n",
    "print(f\"Number of matches without corresponding users in sampled data: {len(missing_users)}\")\n",
    "\n",
    "# Merge matches with sampled reviews on accommodation_id\n",
    "matches_with_reviews = matches.merge(reviews_sample, on=['accommodation_id'], how='left', indicator=True)\n",
    "\n",
    "# Identify matches without corresponding reviews\n",
    "missing_reviews = matches_with_reviews[matches_with_reviews['_merge'] == 'left_only']\n",
    "print(f\"Number of matches without corresponding reviews in sampled data: {len(missing_reviews)}\")"
   ],
   "metadata": {
    "collapsed": false,
    "pycharm": {
     "name": "#%%\n",
     "is_executing": true
    }
   }
  },
  {
   "cell_type": "code",
   "execution_count": null,
   "outputs": [],
   "source": [
    "# Create synthetic reviews for missing matches\n",
    "if len(missing_reviews) > 0:\n",
    "    missing_reviews['review_id'] = [f\"synthetic_{i}\" for i in range(len(missing_reviews))]\n",
    "    missing_reviews['review_title'] = \"Synthetic Review\"\n",
    "    missing_reviews['review_positive'] = \"No positive review available\"\n",
    "    missing_reviews['review_negative'] = \"No negative review available\"\n",
    "    missing_reviews['review_score'] = 0.0\n",
    "    missing_reviews['review_helpful_votes'] = 0\n",
    "\n",
    "    # Save synthetic reviews to a CSV file\n",
    "    missing_reviews[['review_id', 'accommodation_id', 'review_title',\n",
    "                     'review_positive', 'review_negative',\n",
    "                     'review_score', 'review_helpful_votes']].to_csv(\"../data/synthetic_reviews_sample.csv\", index=False)\n",
    "\n",
    "    print(f\"Number of synthetic reviews created for sampled data: {len(missing_reviews)}\")\n",
    "else:\n",
    "    print(\"All sampled accommodations have corresponding reviews.\")"
   ],
   "metadata": {
    "collapsed": false,
    "pycharm": {
     "name": "#%%\n",
     "is_executing": true
    }
   }
  },
  {
   "cell_type": "code",
   "execution_count": null,
   "outputs": [],
   "source": [],
   "metadata": {
    "collapsed": false,
    "pycharm": {
     "name": "#%%\n",
     "is_executing": true
    }
   }
  }
 ],
 "metadata": {
  "kernelspec": {
   "display_name": "Python 3",
   "language": "python",
   "name": "python3"
  },
  "language_info": {
   "codemirror_mode": {
    "name": "ipython",
    "version": 2
   },
   "file_extension": ".py",
   "mimetype": "text/x-python",
   "name": "python",
   "nbconvert_exporter": "python",
   "pygments_lexer": "ipython2",
   "version": "2.7.6"
  }
 },
 "nbformat": 4,
 "nbformat_minor": 0
}